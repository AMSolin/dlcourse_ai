{
 "cells": [
  {
   "cell_type": "markdown",
   "metadata": {
    "colab_type": "text",
    "id": "S5T2mEB-ZvF-"
   },
   "source": [
    "# Массивы"
   ]
  },
  {
   "cell_type": "code",
   "execution_count": 1,
   "metadata": {
    "colab": {},
    "colab_type": "code",
    "id": "s59N8EYR_9bO"
   },
   "outputs": [],
   "source": [
    "import numpy\n",
    "import numpy as np"
   ]
  },
  {
   "cell_type": "code",
   "execution_count": 2,
   "metadata": {
    "colab": {},
    "colab_type": "code",
    "id": "jY0A5RyoAAjw"
   },
   "outputs": [],
   "source": [
    "a = numpy.zeros((2, 3), dtype=numpy.float32)  # ничего не вывело"
   ]
  },
  {
   "cell_type": "code",
   "execution_count": 3,
   "metadata": {
    "colab": {
     "base_uri": "https://localhost:8080/",
     "height": 51
    },
    "colab_type": "code",
    "id": "geYTJI96APBa",
    "outputId": "16944387-c1e1-42c3-c794-9fee5ce547bf"
   },
   "outputs": [
    {
     "data": {
      "text/plain": [
       "array([[0., 0., 0.],\n",
       "       [0., 0., 0.]], dtype=float32)"
      ]
     },
     "execution_count": 3,
     "metadata": {},
     "output_type": "execute_result"
    }
   ],
   "source": [
    "a  # выведет а, по оси Y левая координата (внешняя), по оси X правая (внутренняя) "
   ]
  },
  {
   "cell_type": "code",
   "execution_count": 4,
   "metadata": {
    "colab": {},
    "colab_type": "code",
    "id": "k87_0_pAAP9N"
   },
   "outputs": [],
   "source": [
    "a;  # не выведет а"
   ]
  },
  {
   "cell_type": "code",
   "execution_count": 5,
   "metadata": {
    "colab": {
     "base_uri": "https://localhost:8080/",
     "height": 34
    },
    "colab_type": "code",
    "id": "69_lVpi5HtQ5",
    "outputId": "ff9ca0c1-3fe7-4968-8f2b-011a22836668"
   },
   "outputs": [
    {
     "data": {
      "text/plain": [
       "numpy.ndarray"
      ]
     },
     "execution_count": 5,
     "metadata": {},
     "output_type": "execute_result"
    }
   ],
   "source": [
    "type(a)"
   ]
  },
  {
   "cell_type": "code",
   "execution_count": 6,
   "metadata": {
    "colab": {
     "base_uri": "https://localhost:8080/",
     "height": 34
    },
    "colab_type": "code",
    "id": "6qFgWZSIIbHC",
    "outputId": "dea2806f-43a6-4954-ee9d-f9c487b43a81"
   },
   "outputs": [
    {
     "data": {
      "text/plain": [
       "numpy.ndarray"
      ]
     },
     "execution_count": 6,
     "metadata": {},
     "output_type": "execute_result"
    }
   ],
   "source": [
    "a.__class__"
   ]
  },
  {
   "cell_type": "code",
   "execution_count": 7,
   "metadata": {
    "colab": {
     "base_uri": "https://localhost:8080/",
     "height": 136
    },
    "colab_type": "code",
    "id": "4RUgwQgdAR0b",
    "outputId": "20ca0966-4d2d-42e8-d9e8-2f22ee77593c"
   },
   "outputs": [
    {
     "data": {
      "text/plain": [
       "array([[[0., 0., 0., 0.],\n",
       "        [0., 0., 0., 0.],\n",
       "        [0., 0., 0., 0.]],\n",
       "\n",
       "       [[0., 0., 0., 0.],\n",
       "        [0., 0., 0., 0.],\n",
       "        [0., 0., 0., 0.]]], dtype=float32)"
      ]
     },
     "execution_count": 7,
     "metadata": {},
     "output_type": "execute_result"
    }
   ],
   "source": [
    "a = numpy.zeros((2, 3, 4), dtype=numpy.float32);\n",
    "a  # выведет новый а, по оси X правая координата, по оси Y -- внешние координаты"
   ]
  },
  {
   "cell_type": "code",
   "execution_count": 8,
   "metadata": {
    "colab": {
     "base_uri": "https://localhost:8080/",
     "height": 255
    },
    "colab_type": "code",
    "id": "5L3fS2jPAVFY",
    "outputId": "b1eac1c5-f42a-463b-d8c3-2f0dec17bfeb"
   },
   "outputs": [
    {
     "data": {
      "text/plain": [
       "array([[[1., 1., 1., 1.],\n",
       "        [1., 1., 1., 1.],\n",
       "        [1., 1., 1., 1.]],\n",
       "\n",
       "       [[1., 1., 1., 1.],\n",
       "        [1., 1., 1., 1.],\n",
       "        [1., 1., 1., 1.]]], dtype=float32)"
      ]
     },
     "metadata": {},
     "output_type": "display_data"
    },
    {
     "data": {
      "text/plain": [
       "array([[[2., 2., 2., 2.],\n",
       "        [2., 2., 2., 2.],\n",
       "        [2., 2., 2., 2.]],\n",
       "\n",
       "       [[2., 2., 2., 2.],\n",
       "        [2., 2., 2., 2.],\n",
       "        [2., 2., 2., 2.]]], dtype=float32)"
      ]
     },
     "metadata": {},
     "output_type": "display_data"
    }
   ],
   "source": [
    "a += 1; \n",
    "display(a); \n",
    "a *=2; \n",
    "display(a);  # сложение со скаляром, умножение на скаляр; display -- вывод с помощью jupyter (colab)"
   ]
  },
  {
   "cell_type": "code",
   "execution_count": 9,
   "metadata": {
    "colab": {},
    "colab_type": "code",
    "id": "0z5eIC8NC8bn"
   },
   "outputs": [],
   "source": [
    "ones = lambda *shape: numpy.ones(shape, dtype=numpy.float32)"
   ]
  },
  {
   "cell_type": "code",
   "execution_count": 10,
   "metadata": {
    "colab": {
     "base_uri": "https://localhost:8080/",
     "height": 34
    },
    "colab_type": "code",
    "id": "7-tuzZB_qQZR",
    "outputId": "6690a8d0-4656-45bb-804e-ae9ad001d7aa"
   },
   "outputs": [
    {
     "data": {
      "text/plain": [
       "array([[[1., 1.],\n",
       "        [1., 1.]],\n",
       "\n",
       "       [[1., 1.],\n",
       "        [1., 1.]]], dtype=float32)"
      ]
     },
     "execution_count": 10,
     "metadata": {},
     "output_type": "execute_result"
    }
   ],
   "source": [
    "ones(2,2,2)"
   ]
  },
  {
   "cell_type": "markdown",
   "metadata": {
    "colab_type": "text",
    "id": "DJHEVqDgZzDz"
   },
   "source": [
    "# Задача"
   ]
  },
  {
   "cell_type": "code",
   "execution_count": 11,
   "metadata": {
    "colab": {
     "base_uri": "https://localhost:8080/",
     "height": 289
    },
    "colab_type": "code",
    "id": "6I1Rg6xyAfyc",
    "outputId": "0374847c-1094-4859-c81e-b8c385fba232"
   },
   "outputs": [
    {
     "name": "stdout",
     "output_type": "stream",
     "text": [
      "[array([[1., 1., 1.],\n",
      "       [1., 1., 1.]], dtype=float32), '+', array([[1., 1., 1.],\n",
      "       [1., 1., 1.]], dtype=float32), '=', array([[2., 2., 2.],\n",
      "       [2., 2., 2.]], dtype=float32)]\n",
      "[[1. 1. 1.]\n",
      " [1. 1. 1.]] + [[1. 1. 1.]\n",
      " [1. 1. 1.]] = [[2. 2. 2.]\n",
      " [2. 2. 2.]]\n"
     ]
    },
    {
     "data": {
      "text/plain": [
       "array([[1., 1., 1.],\n",
       "       [1., 1., 1.]], dtype=float32)"
      ]
     },
     "metadata": {},
     "output_type": "display_data"
    },
    {
     "data": {
      "text/plain": [
       "'+'"
      ]
     },
     "metadata": {},
     "output_type": "display_data"
    },
    {
     "data": {
      "text/plain": [
       "array([[1., 1., 1.],\n",
       "       [1., 1., 1.]], dtype=float32)"
      ]
     },
     "metadata": {},
     "output_type": "display_data"
    },
    {
     "data": {
      "text/plain": [
       "'='"
      ]
     },
     "metadata": {},
     "output_type": "display_data"
    },
    {
     "data": {
      "text/plain": [
       "array([[2., 2., 2.],\n",
       "       [2., 2., 2.]], dtype=float32)"
      ]
     },
     "metadata": {},
     "output_type": "display_data"
    }
   ],
   "source": [
    "\"\"\"\n",
    "Задача: \n",
    "вывести красиво операцию A + B = C на экран\n",
    "\"\"\"\n",
    "my_input = [ones(2, 3), '+', ones(2, 3), '=', ones(2,3)*2]\n",
    "print(my_input)\n",
    "print(*my_input)\n",
    "display(*my_input)"
   ]
  },
  {
   "cell_type": "code",
   "execution_count": 12,
   "metadata": {
    "colab": {},
    "colab_type": "code",
    "id": "cbOUFzTcCv12"
   },
   "outputs": [],
   "source": [
    "# пусть наша функция имеет такой формат:\n",
    "def pp(*lst):\n",
    "    pass\n",
    "pp(*my_input)"
   ]
  },
  {
   "cell_type": "code",
   "execution_count": 13,
   "metadata": {
    "colab": {
     "base_uri": "https://localhost:8080/",
     "height": 102
    },
    "colab_type": "code",
    "id": "ZUATzsgJEJYE",
    "outputId": "05884525-d192-47dd-c7c5-783054607e1f"
   },
   "outputs": [
    {
     "data": {
      "text/plain": [
       "[['array([[1., 1., 1.],', '       [1., 1., 1.]], dtype=float32)'],\n",
       " [\"'+'\"],\n",
       " ['array([[1., 1., 1.],', '       [1., 1., 1.]], dtype=float32)'],\n",
       " [\"'='\"],\n",
       " ['array([[2., 2., 2.],', '       [2., 2., 2.]], dtype=float32)']]"
      ]
     },
     "execution_count": 13,
     "metadata": {},
     "output_type": "execute_result"
    }
   ],
   "source": [
    "lines = [repr(a).split('\\n') for a in my_input]; lines"
   ]
  },
  {
   "cell_type": "code",
   "execution_count": 14,
   "metadata": {
    "colab": {
     "base_uri": "https://localhost:8080/",
     "height": 102
    },
    "colab_type": "code",
    "id": "W9FGnSspDegd",
    "outputId": "6d6a73ac-492d-4864-a580-2af63573b8ce"
   },
   "outputs": [
    {
     "data": {
      "text/plain": [
       "[['[[1. 1. 1.]', ' [1. 1. 1.]]'],\n",
       " ['+'],\n",
       " ['[[1. 1. 1.]', ' [1. 1. 1.]]'],\n",
       " ['='],\n",
       " ['[[2. 2. 2.]', ' [2. 2. 2.]]']]"
      ]
     },
     "execution_count": 14,
     "metadata": {},
     "output_type": "execute_result"
    }
   ],
   "source": [
    "lines = [str(a).split('\\n') for a in my_input]; lines"
   ]
  },
  {
   "cell_type": "code",
   "execution_count": 15,
   "metadata": {
    "colab": {
     "base_uri": "https://localhost:8080/",
     "height": 34
    },
    "colab_type": "code",
    "id": "yiBDcWHKD8Rw",
    "outputId": "d5b418ab-1679-4e76-a9f8-196eff6cd900"
   },
   "outputs": [
    {
     "data": {
      "text/plain": [
       "2"
      ]
     },
     "execution_count": 15,
     "metadata": {},
     "output_type": "execute_result"
    }
   ],
   "source": [
    "max_lines = max([len(line) for line in lines])\n",
    "max_lines"
   ]
  },
  {
   "cell_type": "code",
   "execution_count": 16,
   "metadata": {
    "colab": {
     "base_uri": "https://localhost:8080/",
     "height": 102
    },
    "colab_type": "code",
    "id": "G1WhRCxgNjl9",
    "outputId": "9fa97980-17d4-4fff-e140-21359dc389cf"
   },
   "outputs": [
    {
     "data": {
      "text/plain": [
       "[['[[1. 1. 1.]', ' [1. 1. 1.]]'],\n",
       " ['+', ''],\n",
       " ['[[1. 1. 1.]', ' [1. 1. 1.]]'],\n",
       " ['=', ''],\n",
       " ['[[2. 2. 2.]', ' [2. 2. 2.]]']]"
      ]
     },
     "execution_count": 16,
     "metadata": {},
     "output_type": "execute_result"
    }
   ],
   "source": [
    "lines = [line+['']*(max_lines-len(line)) for line in lines]; lines"
   ]
  },
  {
   "cell_type": "markdown",
   "metadata": {
    "colab_type": "text",
    "id": "nOmfUeYUaS8U"
   },
   "source": [
    "### транспонирование, reshape, операция получения максимума"
   ]
  },
  {
   "cell_type": "code",
   "execution_count": 17,
   "metadata": {
    "colab": {
     "base_uri": "https://localhost:8080/",
     "height": 68
    },
    "colab_type": "code",
    "id": "VfM5D9kMI3O_",
    "outputId": "62baf2c9-c7c2-4ae3-bcab-b9359fc9c287"
   },
   "outputs": [
    {
     "data": {
      "text/plain": [
       "array([['[[1. 1. 1.]', '+', '[[1. 1. 1.]', '=', '[[2. 2. 2.]'],\n",
       "       [' [1. 1. 1.]]', '', ' [1. 1. 1.]]', '', ' [2. 2. 2.]]']],\n",
       "      dtype='<U12')"
      ]
     },
     "execution_count": 17,
     "metadata": {},
     "output_type": "execute_result"
    }
   ],
   "source": [
    "lines_arr = numpy.array(lines); lines_arr.T"
   ]
  },
  {
   "cell_type": "code",
   "execution_count": 18,
   "metadata": {
    "colab": {
     "base_uri": "https://localhost:8080/",
     "height": 34
    },
    "colab_type": "code",
    "id": "hHqZMQZ-I9hi",
    "outputId": "15c409d1-add4-4527-efff-214986dfa471"
   },
   "outputs": [
    {
     "data": {
      "text/plain": [
       "[2, 2, 2, 2, 2]"
      ]
     },
     "metadata": {},
     "output_type": "display_data"
    }
   ],
   "source": [
    "widths = [len(x) for x in lines]; display(widths)"
   ]
  },
  {
   "cell_type": "code",
   "execution_count": 19,
   "metadata": {
    "colab": {
     "base_uri": "https://localhost:8080/",
     "height": 34
    },
    "colab_type": "code",
    "id": "adTwt4DKJbeV",
    "outputId": "9157416a-764f-4fc1-d299-98c1df7f6b7e"
   },
   "outputs": [
    {
     "data": {
      "text/plain": [
       "((5, 2), (10,))"
      ]
     },
     "execution_count": 19,
     "metadata": {},
     "output_type": "execute_result"
    }
   ],
   "source": [
    "lines_arr.shape, lines_arr.flatten().shape"
   ]
  },
  {
   "cell_type": "code",
   "execution_count": 20,
   "metadata": {
    "colab": {
     "base_uri": "https://localhost:8080/",
     "height": 119
    },
    "colab_type": "code",
    "id": "90FIUhBsKZQF",
    "outputId": "821190c4-5b37-4aa7-c51b-0a64551fb74d"
   },
   "outputs": [
    {
     "data": {
      "text/plain": [
       "array([11, 12,  1,  0, 11, 12,  1,  0, 11, 12])"
      ]
     },
     "metadata": {},
     "output_type": "display_data"
    },
    {
     "data": {
      "text/plain": [
       "array([[11, 12],\n",
       "       [ 1,  0],\n",
       "       [11, 12],\n",
       "       [ 1,  0],\n",
       "       [11, 12]])"
      ]
     },
     "metadata": {},
     "output_type": "display_data"
    }
   ],
   "source": [
    "widths = numpy.array([len(x) for x in lines_arr.flatten()]); display(widths)\n",
    "widths = widths.reshape(len(lines_arr), -1); display(widths)"
   ]
  },
  {
   "cell_type": "code",
   "execution_count": 21,
   "metadata": {
    "colab": {
     "base_uri": "https://localhost:8080/",
     "height": 102
    },
    "colab_type": "code",
    "id": "WEZLTDTrN-pY",
    "outputId": "dff9d841-13e4-4d7b-c3b9-36e20b52f078"
   },
   "outputs": [
    {
     "data": {
      "text/plain": [
       "array([[11, 12],\n",
       "       [ 1,  0],\n",
       "       [11, 12],\n",
       "       [ 1,  0],\n",
       "       [11, 12]])"
      ]
     },
     "metadata": {},
     "output_type": "display_data"
    }
   ],
   "source": [
    "widths = widths.reshape(*lines_arr.shape); display(widths)"
   ]
  },
  {
   "cell_type": "code",
   "execution_count": 22,
   "metadata": {
    "colab": {
     "base_uri": "https://localhost:8080/",
     "height": 34
    },
    "colab_type": "code",
    "id": "ye8MODh_KqTp",
    "outputId": "69a254a6-6205-4d4d-e3a8-7956893de49a"
   },
   "outputs": [
    {
     "data": {
      "text/plain": [
       "12"
      ]
     },
     "execution_count": 22,
     "metadata": {},
     "output_type": "execute_result"
    }
   ],
   "source": [
    "numpy.max(widths)"
   ]
  },
  {
   "cell_type": "code",
   "execution_count": 23,
   "metadata": {
    "colab": {
     "base_uri": "https://localhost:8080/",
     "height": 102
    },
    "colab_type": "code",
    "id": "3kHxU4NeMCs5",
    "outputId": "13f02239-ce34-49cb-a34e-3be9f26b4fd3"
   },
   "outputs": [
    {
     "data": {
      "text/plain": [
       "array([[11, 12],\n",
       "       [ 1,  0],\n",
       "       [11, 12],\n",
       "       [ 1,  0],\n",
       "       [11, 12]])"
      ]
     },
     "execution_count": 23,
     "metadata": {},
     "output_type": "execute_result"
    }
   ],
   "source": [
    "widths"
   ]
  },
  {
   "cell_type": "code",
   "execution_count": 24,
   "metadata": {
    "colab": {
     "base_uri": "https://localhost:8080/",
     "height": 34
    },
    "colab_type": "code",
    "id": "JKMecpu7MEBo",
    "outputId": "e6c5cf85-aff6-447b-f7e4-f8cddf9b8b19"
   },
   "outputs": [
    {
     "data": {
      "text/plain": [
       "12"
      ]
     },
     "execution_count": 24,
     "metadata": {},
     "output_type": "execute_result"
    }
   ],
   "source": [
    "widths.max()"
   ]
  },
  {
   "cell_type": "code",
   "execution_count": 25,
   "metadata": {
    "colab": {
     "base_uri": "https://localhost:8080/",
     "height": 34
    },
    "colab_type": "code",
    "id": "b-oaY66KMFdq",
    "outputId": "851d5e28-7eab-42de-f15e-725a351c596a"
   },
   "outputs": [
    {
     "data": {
      "text/plain": [
       "array([12,  1, 12,  1, 12])"
      ]
     },
     "execution_count": 25,
     "metadata": {},
     "output_type": "execute_result"
    }
   ],
   "source": [
    "widths.max(axis=1)  # складывает по внутренней оси, "
   ]
  },
  {
   "cell_type": "code",
   "execution_count": 26,
   "metadata": {
    "colab": {
     "base_uri": "https://localhost:8080/",
     "height": 34
    },
    "colab_type": "code",
    "id": "ca2TQmYsMJiK",
    "outputId": "20587efc-b299-467e-99c5-a701847e8308"
   },
   "outputs": [
    {
     "data": {
      "text/plain": [
       "array([12,  1, 12,  1, 12])"
      ]
     },
     "execution_count": 26,
     "metadata": {},
     "output_type": "execute_result"
    }
   ],
   "source": [
    "line_widths = widths.max(axis=1)\n",
    "line_widths"
   ]
  },
  {
   "cell_type": "markdown",
   "metadata": {
    "colab_type": "text",
    "id": "ugJhTbxGaHla"
   },
   "source": [
    "### форматирование всё равно придётся делать поэлементно. зашли в тупик..."
   ]
  },
  {
   "cell_type": "code",
   "execution_count": 27,
   "metadata": {
    "colab": {
     "base_uri": "https://localhost:8080/",
     "height": 34
    },
    "colab_type": "code",
    "id": "G3btWZgxSM3j",
    "outputId": "ecfb4b46-701b-47a3-b9be-7de4dbf0c55b"
   },
   "outputs": [
    {
     "data": {
      "text/plain": [
       "2"
      ]
     },
     "execution_count": 27,
     "metadata": {},
     "output_type": "execute_result"
    }
   ],
   "source": [
    "lines = [str(a).split('\\n') for a in my_input]; lines\n",
    "max_lines = max([len(line) for line in lines])\n",
    "max_lines"
   ]
  },
  {
   "cell_type": "code",
   "execution_count": 28,
   "metadata": {
    "colab": {
     "base_uri": "https://localhost:8080/",
     "height": 68
    },
    "colab_type": "code",
    "id": "_hgrRixPSWMb",
    "outputId": "4f0de41b-0fb8-48c0-aea4-9c3081a2b52a"
   },
   "outputs": [
    {
     "name": "stdout",
     "output_type": "stream",
     "text": [
      "[[1 2 3] \n",
      " [4 5 6]]\n",
      "         \n"
     ]
    }
   ],
   "source": [
    "def fmt_item(lines, max_lines=0):\n",
    "    max_width = max([len(line) for line in lines])\n",
    "    empty = ' '*max_width\n",
    "    lines = [line.ljust(max_width) for line in lines]\n",
    "    lines += [empty] * (max_lines - len(lines))\n",
    "    return lines    \n",
    "    \n",
    "results = fmt_item(str(numpy.arange(1, 7).reshape(2,-1)).split('\\n'), max_lines=3)\n",
    "print('\\n'.join(results))"
   ]
  },
  {
   "cell_type": "code",
   "execution_count": 29,
   "metadata": {
    "colab": {},
    "colab_type": "code",
    "id": "GTwQu-wR7qX5"
   },
   "outputs": [],
   "source": [
    "# а что делать дальше, когда у нас есть такие массивы? \n",
    "# воспользуемся array().T"
   ]
  },
  {
   "cell_type": "code",
   "execution_count": 30,
   "metadata": {
    "colab": {
     "base_uri": "https://localhost:8080/",
     "height": 51
    },
    "colab_type": "code",
    "id": "_etjxroVTCtS",
    "outputId": "449ae8d8-723d-4dc5-83cf-a3abd2ace4d9"
   },
   "outputs": [
    {
     "name": "stdout",
     "output_type": "stream",
     "text": [
      "[[1. 1. 1.]  + [[1. 1. 1.]  = [[2. 2. 2.] \n",
      " [1. 1. 1.]]    [1. 1. 1.]]    [2. 2. 2.]]\n"
     ]
    }
   ],
   "source": [
    "def pp(*lst):\n",
    "    lines = [str(item).split('\\n') for item in lst]\n",
    "    max_lines = max([len(item) for item in lines])\n",
    "    lines = [fmt_item(item, max_lines=max_lines) for item in lines]\n",
    "    lines_t = numpy.array(lines).T\n",
    "    print('\\n'.join([' '.join(line) for line in lines_t]))\n",
    "    \n",
    "pp(*my_input)\n"
   ]
  },
  {
   "cell_type": "markdown",
   "metadata": {
    "colab_type": "text",
    "id": "aQ9AIQ9hZ_7O"
   },
   "source": [
    "### Попробуем нашу функцию:"
   ]
  },
  {
   "cell_type": "code",
   "execution_count": 31,
   "metadata": {
    "colab": {
     "base_uri": "https://localhost:8080/",
     "height": 102
    },
    "colab_type": "code",
    "id": "yROkCSNbEMhs",
    "outputId": "dee5706c-213c-4fed-c9a9-0b242a448eac"
   },
   "outputs": [
    {
     "name": "stdout",
     "output_type": "stream",
     "text": [
      "[[ 1  2]  * [[10.         12.22222222]  = [[ 10.          24.44444444] \n",
      " [ 3  4]     [14.44444444 16.66666667]     [ 43.33333333  66.66666667] \n",
      " [ 5  6]     [18.88888889 21.11111111]     [ 94.44444444 126.66666667] \n",
      " [ 7  8]     [23.33333333 25.55555556]     [163.33333333 204.44444444] \n",
      " [ 9 10]]    [27.77777778 30.        ]]    [250.         300.        ]]\n"
     ]
    }
   ],
   "source": [
    "A = numpy.arange(1, 11).reshape(5,2)\n",
    "B = numpy.linspace(10, 30, 10).reshape(5,2)\n",
    "R = A * B\n",
    "pp(A, '*', B, '=', R)"
   ]
  },
  {
   "cell_type": "code",
   "execution_count": 32,
   "metadata": {
    "colab": {
     "base_uri": "https://localhost:8080/",
     "height": 51
    },
    "colab_type": "code",
    "id": "RD_lME-dDD6O",
    "outputId": "4bdc562c-e302-4cc2-aa22-98ce96421b0d"
   },
   "outputs": [
    {
     "name": "stdout",
     "output_type": "stream",
     "text": [
      "[[1 2]  + [[5 6]  = [[ 6  8] \n",
      " [3 4]]    [7 8]]    [10 12]]\n"
     ]
    }
   ],
   "source": [
    "import operator\n",
    "#operator.add = lambda x, y: x + y\n",
    "\n",
    "def op(x, name, y, func):\n",
    "    r = func(x, y)\n",
    "    pp(x, name, y, '=', r)\n",
    "    \n",
    "op(numpy.array([[1,2],[3,4]]), '+', numpy.array([[5,6],[7,8]]), operator.add)"
   ]
  },
  {
   "cell_type": "code",
   "execution_count": 33,
   "metadata": {
    "colab": {
     "base_uri": "https://localhost:8080/",
     "height": 102
    },
    "colab_type": "code",
    "id": "Jz93V8mSAoe2",
    "outputId": "b4f04b64-6ec7-489b-8fe9-335808a04bc1"
   },
   "outputs": [
    {
     "name": "stdout",
     "output_type": "stream",
     "text": [
      "[[ 1  2]  * [[10.         12.22222222]  = [[ 10.          24.44444444] \n",
      " [ 3  4]     [14.44444444 16.66666667]     [ 43.33333333  66.66666667] \n",
      " [ 5  6]     [18.88888889 21.11111111]     [ 94.44444444 126.66666667] \n",
      " [ 7  8]     [23.33333333 25.55555556]     [163.33333333 204.44444444] \n",
      " [ 9 10]]    [27.77777778 30.        ]]    [250.         300.        ]]\n"
     ]
    }
   ],
   "source": [
    "# вспомним классы, оформим в виде класса\n",
    "class Op:\n",
    "    def __init__(self, name, func):\n",
    "        self.name = name\n",
    "        self.func = func\n",
    "    \n",
    "    def __call__(self, x, y):\n",
    "        r = self.func(x, y)\n",
    "        pp(x, self.name, y, '=', r)\n",
    "\n",
    "SSum = Op('+', lambda x, y: x + y)\n",
    "SMul = Op('*', lambda x, y: x * y)\n",
    "MMul = Op('@', lambda x, y: x @ y)  # python 3.5+ \n",
    "\n",
    "SMul(A, B)"
   ]
  },
  {
   "cell_type": "code",
   "execution_count": 34,
   "metadata": {
    "colab": {
     "base_uri": "https://localhost:8080/",
     "height": 102
    },
    "colab_type": "code",
    "id": "v5SZCD5jCjOy",
    "outputId": "1b78d067-b3e3-45d1-f4af-11069bb2e1f6"
   },
   "outputs": [
    {
     "name": "stdout",
     "output_type": "stream",
     "text": [
      "[[ 1  3  5  7  9]  @ [[10.         12.22222222]  = [[561.11111111 616.66666667] \n",
      " [ 2  4  6  8 10]]    [14.44444444 16.66666667]     [655.55555556 722.22222222]]\n",
      "                      [18.88888889 21.11111111]                                 \n",
      "                      [23.33333333 25.55555556]                                 \n",
      "                      [27.77777778 30.        ]]                                \n"
     ]
    }
   ],
   "source": [
    "MMul(A.T, B)"
   ]
  },
  {
   "cell_type": "code",
   "execution_count": 35,
   "metadata": {},
   "outputs": [],
   "source": [
    "tr = numpy.array([[9,8],[7,6],[5,4]])\n",
    "te = numpy.array([[1,2],[3,4]])"
   ]
  },
  {
   "cell_type": "code",
   "execution_count": 36,
   "metadata": {},
   "outputs": [
    {
     "name": "stdout",
     "output_type": "stream",
     "text": [
      "[[0. 0. 0.] \n",
      " [0. 0. 0.]]\n",
      "14.0\n",
      "10.0\n",
      "6.0\n",
      "10.0\n",
      "6.0\n",
      "2.0\n",
      "[[14. 10.  6.] \n",
      " [10.  6.  2.]]\n"
     ]
    }
   ],
   "source": [
    "num_train = tr.shape[0]\n",
    "num_test = te.shape[0]\n",
    "\n",
    "dists = np.zeros((num_test, num_train), np.float32)\n",
    "pp(dists)\n",
    "for i_test in range(num_test):\n",
    "    for i_train in range(num_train):\n",
    "        dists[i_test, i_train] = np.abs(np.add.reduce(te[i_test] - tr[i_train]))\n",
    "        pp(dists[i_test, i_train])\n",
    "pp(dists)"
   ]
  },
  {
   "cell_type": "code",
   "execution_count": 37,
   "metadata": {},
   "outputs": [
    {
     "name": "stdout",
     "output_type": "stream",
     "text": [
      "[[0. 0. 0.] \n",
      " [0. 0. 0.]]\n",
      "[[14. 10.  6.] \n",
      " [10.  6.  2.]]\n"
     ]
    }
   ],
   "source": [
    "num_train = tr.shape[0]\n",
    "num_test = te.shape[0]\n",
    "\n",
    "dists = np.zeros((num_test, num_train), np.float32)\n",
    "pp(dists)\n",
    "for i_test in range(num_test):\n",
    "    dists[i_test] = np.sum(np.abs(te[i_test]- tr), axis=1)\n",
    "pp(dists)"
   ]
  },
  {
   "cell_type": "code",
   "execution_count": 38,
   "metadata": {},
   "outputs": [
    {
     "data": {
      "text/plain": [
       "array([[14, 10,  6],\n",
       "       [10,  6,  2]])"
      ]
     },
     "execution_count": 38,
     "metadata": {},
     "output_type": "execute_result"
    }
   ],
   "source": [
    "new_te = te[:, np.newaxis]\n",
    "dists = np.sum(np.abs(new_te - tr), axis=2)\n",
    "dists"
   ]
  },
  {
   "cell_type": "code",
   "execution_count": 39,
   "metadata": {},
   "outputs": [
    {
     "name": "stdout",
     "output_type": "stream",
     "text": [
      "[ 6 10 14]\n",
      "[ 2  6 10]\n"
     ]
    }
   ],
   "source": [
    "for i in range(dists.shape[0]):\n",
    "    print(np.sort(dists[i])[:3])"
   ]
  },
  {
   "cell_type": "code",
   "execution_count": 40,
   "metadata": {},
   "outputs": [
    {
     "data": {
      "text/plain": [
       "array([6, 9, 2, 3, 4, 5, 0, 7, 8, 1], dtype=int64)"
      ]
     },
     "execution_count": 40,
     "metadata": {},
     "output_type": "execute_result"
    }
   ],
   "source": [
    "a = np.array([9, 4, 4, 3, 3, 9, 0, 4, 6, 0])\n",
    "b = np.array([False, False, False, False, False, False, False, False, False, False])\n",
    "\n",
    "ind = np.argpartition(a, 1)#[:3]\n",
    "ind #[6, 9, 4]\n",
    "#b[ind] #array([ True, False,  True])\n",
    "#c = np.bincount(b[ind]) # array([1, 2]\n",
    "#np.argmax(c)"
   ]
  },
  {
   "cell_type": "code",
   "execution_count": 41,
   "metadata": {},
   "outputs": [
    {
     "data": {
      "text/plain": [
       "array([[9, 8],\n",
       "       [7, 6],\n",
       "       [5, 4]])"
      ]
     },
     "execution_count": 41,
     "metadata": {},
     "output_type": "execute_result"
    }
   ],
   "source": [
    "tr"
   ]
  },
  {
   "cell_type": "code",
   "execution_count": 42,
   "metadata": {},
   "outputs": [
    {
     "name": "stdout",
     "output_type": "stream",
     "text": [
      "[[[7 6]]\n",
      "\n",
      " [[5 4]]] ,\n",
      "[[[9 8]]\n",
      "\n",
      " [[5 4]]] ,\n",
      "[[[9 8]]\n",
      "\n",
      " [[7 6]]] ,\n"
     ]
    },
    {
     "data": {
      "text/plain": [
       "array([[9, 8],\n",
       "       [7, 6],\n",
       "       [5, 4]])"
      ]
     },
     "execution_count": 42,
     "metadata": {},
     "output_type": "execute_result"
    }
   ],
   "source": [
    "a = np.array_split(tr, 3)\n",
    "for i in range(len(a)):\n",
    "    b = np.delete(a.copy(), i, 0)\n",
    "    print(b, ',')\n",
    "a =np.concatenate(a)\n",
    "a"
   ]
  },
  {
   "cell_type": "code",
   "execution_count": 48,
   "metadata": {},
   "outputs": [
    {
     "data": {
      "text/plain": [
       "17"
      ]
     },
     "execution_count": 48,
     "metadata": {},
     "output_type": "execute_result"
    }
   ],
   "source": [
    "#               0, 1, 2, 3,  4,  5,  6,   7\n",
    "arr = np.array([1100, 1, 9, 2, 0, 17, 17, 5])\n",
    "c = np.bincount(arr)\n",
    "np.argmax(c)"
   ]
  },
  {
   "cell_type": "code",
   "execution_count": 47,
   "metadata": {},
   "outputs": [
    {
     "data": {
      "text/plain": [
       "array([[9, 8],\n",
       "       [7, 6],\n",
       "       [5, 4]])"
      ]
     },
     "execution_count": 47,
     "metadata": {},
     "output_type": "execute_result"
    }
   ],
   "source": [
    "tr"
   ]
  },
  {
   "cell_type": "code",
   "execution_count": null,
   "metadata": {},
   "outputs": [],
   "source": [
    "tr_n = tr - np"
   ]
  },
  {
   "cell_type": "markdown",
   "metadata": {
    "colab_type": "text",
    "id": "QxRiSVhsSjqt"
   },
   "source": [
    "# Простая индексация"
   ]
  },
  {
   "cell_type": "code",
   "execution_count": 96,
   "metadata": {},
   "outputs": [
    {
     "data": {
      "text/plain": [
       "array([False, False, False, False, False])"
      ]
     },
     "execution_count": 96,
     "metadata": {},
     "output_type": "execute_result"
    }
   ],
   "source": [
    "pred = np.zeros(5, np.bool)\n",
    "pred"
   ]
  },
  {
   "cell_type": "code",
   "execution_count": null,
   "metadata": {},
   "outputs": [],
   "source": []
  },
  {
   "cell_type": "code",
   "execution_count": null,
   "metadata": {
    "colab": {
     "base_uri": "https://localhost:8080/",
     "height": 34
    },
    "colab_type": "code",
    "id": "LFCcP2gbEylq",
    "outputId": "088ef9d0-02d5-48d5-a690-9131497a99a1"
   },
   "outputs": [],
   "source": [
    "pp(B[0, :], B[-1,-2], B[-2:-1, 0])"
   ]
  },
  {
   "cell_type": "markdown",
   "metadata": {
    "colab_type": "text",
    "id": "kt4SvIJsRsAB"
   },
   "source": [
    "# Broadcasting и stack"
   ]
  },
  {
   "cell_type": "code",
   "execution_count": null,
   "metadata": {
    "colab": {
     "base_uri": "https://localhost:8080/",
     "height": 102
    },
    "colab_type": "code",
    "id": "QfWzE9HyFYS2",
    "outputId": "87f10af3-061f-4936-8a00-6e92521ca2d8"
   },
   "outputs": [],
   "source": [
    "SSum(A, B[0])  # что произойдёт? это преобразование называется broadcasting"
   ]
  },
  {
   "cell_type": "code",
   "execution_count": null,
   "metadata": {
    "colab": {
     "base_uri": "https://localhost:8080/",
     "height": 102
    },
    "colab_type": "code",
    "id": "vp9dN7KhFfYq",
    "outputId": "dec8ad6e-c513-4f58-bed1-d64761f1dcb1"
   },
   "outputs": [],
   "source": [
    "SMul(A, B[0])  # смотрим ещё раз, на умножении"
   ]
  },
  {
   "cell_type": "code",
   "execution_count": null,
   "metadata": {
    "colab": {
     "base_uri": "https://localhost:8080/",
     "height": 102
    },
    "colab_type": "code",
    "id": "UbGFHnJuFiYM",
    "outputId": "d3c4413c-4f64-4937-870c-587bcb146ff1"
   },
   "outputs": [],
   "source": [
    "SMul(A, numpy.stack(list(B[0:1])*5))"
   ]
  },
  {
   "cell_type": "markdown",
   "metadata": {
    "colab_type": "text",
    "id": "KJf6Qh6cRWzC"
   },
   "source": [
    "# Бинарные и логические операции с массивами"
   ]
  },
  {
   "cell_type": "code",
   "execution_count": null,
   "metadata": {
    "colab": {
     "base_uri": "https://localhost:8080/",
     "height": 102
    },
    "colab_type": "code",
    "id": "Okg0VT9ZF8gF",
    "outputId": "efcfea92-7222-47df-87bf-1eff7edcd0f5"
   },
   "outputs": [],
   "source": [
    "pp(A, A>3, B, B>=10.) # сравнение float -- дело неточное"
   ]
  },
  {
   "cell_type": "code",
   "execution_count": null,
   "metadata": {
    "colab": {
     "base_uri": "https://localhost:8080/",
     "height": 34
    },
    "colab_type": "code",
    "id": "HoNvY1sIt31t",
    "outputId": "993e9a8d-ad58-4522-ee45-ad081c98068f"
   },
   "outputs": [],
   "source": [
    "1<<23"
   ]
  },
  {
   "cell_type": "markdown",
   "metadata": {
    "colab_type": "text",
    "id": "N4_gcEynOrV0"
   },
   "source": [
    "Float 32 format: ![alt text](https://upload.wikimedia.org/wikipedia/commons/thumb/d/d2/Float_example.svg/1180px-Float_example.svg.png) "
   ]
  },
  {
   "cell_type": "code",
   "execution_count": null,
   "metadata": {
    "colab": {
     "base_uri": "https://localhost:8080/",
     "height": 102
    },
    "colab_type": "code",
    "id": "vqjgnb3yGVM9",
    "outputId": "0fe4d1fe-ecb7-405c-d9f2-0dfcc7528db9"
   },
   "outputs": [],
   "source": [
    "pp(numpy.isclose(B, 10), (10 - 1e-7 <= B) & (B <= 10 + 1e-7))"
   ]
  },
  {
   "cell_type": "code",
   "execution_count": null,
   "metadata": {
    "colab": {},
    "colab_type": "code",
    "id": "oPqy7M6nuCEB"
   },
   "outputs": [],
   "source": []
  },
  {
   "cell_type": "code",
   "execution_count": null,
   "metadata": {
    "colab": {
     "base_uri": "https://localhost:8080/",
     "height": 34
    },
    "colab_type": "code",
    "id": "S2tIrfYDRfgr",
    "outputId": "213dd747-a727-4736-99b9-cc2f2245f774"
   },
   "outputs": [],
   "source": [
    "idx = numpy.isclose(B, 10) | numpy.isclose(B, 30)\n",
    "B[idx]"
   ]
  },
  {
   "cell_type": "markdown",
   "metadata": {
    "colab_type": "text",
    "id": "hPsC5EQBRgsM"
   },
   "source": [
    "# Индексация массивов"
   ]
  },
  {
   "cell_type": "code",
   "execution_count": null,
   "metadata": {
    "colab": {
     "base_uri": "https://localhost:8080/",
     "height": 153
    },
    "colab_type": "code",
    "id": "b4ajbqkvJZ7Q",
    "outputId": "41c9f9b2-5b75-4034-e21d-2aa2ddc2f05c"
   },
   "outputs": [],
   "source": [
    "pp(B)\n",
    "pp(numpy.isclose(B[1:-1, 1:-1], 10))  # классическая индексация питона\n",
    "pp(numpy.isclose(B[0], 10))   # берём первую строку\n",
    "pp(numpy.isclose(B[:, 1], 10))   # берём второй столбец"
   ]
  },
  {
   "cell_type": "markdown",
   "metadata": {
    "colab_type": "text",
    "id": "E6BHYI1qP2ZA"
   },
   "source": [
    "# Cлучайные значения"
   ]
  },
  {
   "cell_type": "code",
   "execution_count": null,
   "metadata": {
    "colab": {
     "base_uri": "https://localhost:8080/",
     "height": 51
    },
    "colab_type": "code",
    "id": "8JxM_NfYHIvb",
    "outputId": "008eaefd-38bd-4fc9-ec71-2cc8ca737081"
   },
   "outputs": [],
   "source": [
    "pp(numpy.random.uniform(0, 1), numpy.random.randn(2, 3), numpy.random.rand(2, 3))"
   ]
  },
  {
   "cell_type": "code",
   "execution_count": null,
   "metadata": {
    "colab": {
     "base_uri": "https://localhost:8080/",
     "height": 51
    },
    "colab_type": "code",
    "id": "AFWlq4tVPVe0",
    "outputId": "f3a4b73a-5e69-4dcc-b029-3c97d20e688c"
   },
   "outputs": [],
   "source": [
    "import random\n",
    "random.seed(10)\n",
    "numpy.random.seed(10)\n",
    "nr = numpy.random.uniform(0, 1)\n",
    "nr2 = numpy.random.uniform(0, 1)\n",
    "rr = random.uniform(0, 1)\n",
    "rr2 = random.uniform(0, 1)\n",
    "pp(rr, nr, rr2, nr2)\n",
    "\n",
    "random.seed(10)\n",
    "numpy.random.seed(10)\n",
    "rr = random.uniform(0, 1)\n",
    "nr = numpy.random.uniform(0, 1)\n",
    "rr2 = random.uniform(0, 1)\n",
    "nr2 = numpy.random.uniform(0, 1)\n",
    "pp(rr, nr, rr2, nr2)"
   ]
  },
  {
   "cell_type": "code",
   "execution_count": null,
   "metadata": {
    "colab": {
     "base_uri": "https://localhost:8080/",
     "height": 265
    },
    "colab_type": "code",
    "id": "G4VN9KlmU16k",
    "outputId": "4f9ccfee-a6d4-4f5f-a6d9-7250626869b6"
   },
   "outputs": [],
   "source": [
    "import matplotlib\n",
    "# значение по умолчанию в colab, но не в локальных ноутбуках\n",
    "matplotlib.rcParams['axes.grid'] = True\n",
    "\n",
    "import matplotlib.pyplot as plt\n",
    "# нарисуем график для 11 случайных нормально распределённых чисел.\n",
    "x = numpy.linspace(0, 10, 11)\n",
    "dots = numpy.random.randn(11)\n",
    "plt.plot(x, dots);"
   ]
  },
  {
   "cell_type": "code",
   "execution_count": null,
   "metadata": {
    "colab": {
     "base_uri": "https://localhost:8080/",
     "height": 265
    },
    "colab_type": "code",
    "id": "YG61yWFRQC4_",
    "outputId": "44cafa9d-15d4-438b-c786-4293b59d959b"
   },
   "outputs": [],
   "source": [
    "import matplotlib\n",
    "matplotlib.rcParams['axes.grid'] = False  # убираем белую клетку (настройки colab)\n",
    "\n",
    "import matplotlib.pyplot as plt\n",
    "plt.plot(x, dots);  # рисуем линию ещё раз"
   ]
  },
  {
   "cell_type": "code",
   "execution_count": null,
   "metadata": {
    "colab": {
     "base_uri": "https://localhost:8080/",
     "height": 265
    },
    "colab_type": "code",
    "id": "jtANKp8mT2Va",
    "outputId": "80343033-4b47-4d92-cf16-98f12f1bc3f8"
   },
   "outputs": [],
   "source": [
    "# если надо просто вывести точки, без линий между ними\n",
    "plt.scatter(x, dots);"
   ]
  },
  {
   "cell_type": "code",
   "execution_count": null,
   "metadata": {
    "colab": {
     "base_uri": "https://localhost:8080/",
     "height": 148
    },
    "colab_type": "code",
    "id": "TR1UodU-T_AI",
    "outputId": "c624b94a-bcd0-40a8-bdc2-c890698c7685"
   },
   "outputs": [],
   "source": [
    "# выводим двумерный массив, используя цветовую схему 'hot'.\n",
    "# matplotlib автоматически определяет минимум и максимум\n",
    "# по нему настраивает цвета\n",
    "plt.imshow(numpy.arange(0, 120).reshape(6, 20), 'hot');"
   ]
  },
  {
   "cell_type": "markdown",
   "metadata": {
    "colab_type": "text",
    "id": "vu_xEninXHlS"
   },
   "source": [
    "# Строки и словари"
   ]
  },
  {
   "cell_type": "code",
   "execution_count": null,
   "metadata": {
    "colab": {
     "base_uri": "https://localhost:8080/",
     "height": 34
    },
    "colab_type": "code",
    "id": "BLk5yKFqUYtW",
    "outputId": "3b189fd2-5dbb-4f71-c7d5-baa3b84c3f85"
   },
   "outputs": [],
   "source": [
    "# Задача: определить, какой символ встречается чаще всего в данном тексте,\n",
    "# не считая пробелов!\n",
    "a = \"Кот сидел на крыше тише мыши\"\n",
    "pp(set(list(a)))"
   ]
  },
  {
   "cell_type": "code",
   "execution_count": null,
   "metadata": {
    "colab": {
     "base_uri": "https://localhost:8080/",
     "height": 289
    },
    "colab_type": "code",
    "id": "j_4zX9MPWtxE",
    "outputId": "47b367a3-406f-4c87-d383-9b02c118733a"
   },
   "outputs": [],
   "source": [
    "from collections import Counter\n",
    "# приближённое решение.\n",
    "Counter(list(a)).most_common()\n",
    "# убрать пробел и будет то, что надо. попробуйте сами."
   ]
  },
  {
   "cell_type": "code",
   "execution_count": null,
   "metadata": {
    "colab": {
     "base_uri": "https://localhost:8080/",
     "height": 34
    },
    "colab_type": "code",
    "id": "MlIdvUxCXSjG",
    "outputId": "4e6f84c2-67d1-4a00-8301-38b15d6258cc"
   },
   "outputs": [],
   "source": [
    "# напишем вручную код аналогичный тому, что происходит внутри Counter\n",
    "counter = {}\n",
    "for ch in list(a.lower()):\n",
    "    if ch == ' ': continue\n",
    "    if ch in counter:\n",
    "        counter[ch] += 1\n",
    "    else:\n",
    "        counter[ch] = 1\n",
    "    \n",
    "pp(counter)"
   ]
  },
  {
   "cell_type": "code",
   "execution_count": null,
   "metadata": {
    "colab": {
     "base_uri": "https://localhost:8080/",
     "height": 34
    },
    "colab_type": "code",
    "id": "lQ5p5DaUYobm",
    "outputId": "75083341-2c5b-4be5-8108-ff0c9db0f89e"
   },
   "outputs": [],
   "source": [
    "pp(type(ch))  # в питоне даже отдельные символы -- это строчки"
   ]
  },
  {
   "cell_type": "code",
   "execution_count": null,
   "metadata": {
    "colab": {
     "base_uri": "https://localhost:8080/",
     "height": 34
    },
    "colab_type": "code",
    "id": "dEnQFr0HYq7B",
    "outputId": "511aabae-7aa8-4547-d4fd-1738d18f06a0"
   },
   "outputs": [],
   "source": [
    "max(counter.values())  # нашли максимум"
   ]
  },
  {
   "cell_type": "code",
   "execution_count": null,
   "metadata": {
    "colab": {
     "base_uri": "https://localhost:8080/",
     "height": 34
    },
    "colab_type": "code",
    "id": "bPTUMoS9Y9B1",
    "outputId": "fef8d925-9458-44b8-cfca-0ef508f7f28c"
   },
   "outputs": [],
   "source": [
    "# алгоритм для поиска максимума\n",
    "winner_ch = None\n",
    "winner_count = 0\n",
    "for ch, count in counter.items():\n",
    "  if count > winner_count:\n",
    "      winner_count = count\n",
    "      winner_ch = ch\n",
    "print(winner_ch, winner_count)  # и вот наш символ-победитель\n",
    "# имейте в виду, победителя на самом деле три.\n",
    "# исправьте код, чтобы вывести и второй и третий."
   ]
  },
  {
   "cell_type": "markdown",
   "metadata": {
    "colab_type": "text",
    "id": "v9z_Gk9nfWPK"
   },
   "source": [
    " ---"
   ]
  },
  {
   "cell_type": "markdown",
   "metadata": {
    "colab_type": "text",
    "id": "QZ_Q6UjSgFW8"
   },
   "source": [
    "---"
   ]
  },
  {
   "cell_type": "markdown",
   "metadata": {
    "colab_type": "text",
    "id": "-YCzFzgcgGdY"
   },
   "source": [
    "---"
   ]
  },
  {
   "cell_type": "code",
   "execution_count": null,
   "metadata": {
    "colab": {
     "base_uri": "https://localhost:8080/",
     "height": 102
    },
    "colab_type": "code",
    "id": "lR7Q4Mp5gZox",
    "outputId": "0367edc6-4aed-4df4-bbe1-2e81c3bd7b4f"
   },
   "outputs": [],
   "source": [
    "A"
   ]
  },
  {
   "cell_type": "code",
   "execution_count": null,
   "metadata": {
    "colab": {
     "base_uri": "https://localhost:8080/",
     "height": 51
    },
    "colab_type": "code",
    "id": "qIzVzUWIZOjR",
    "outputId": "2f735895-a9a2-4229-d40f-545bfefb78f4"
   },
   "outputs": [],
   "source": [
    "a=A[0]\n",
    "b=B[0]\n",
    "c=B[0].T\n",
    "print(a.shape, b.shape, c.shape)\n",
    "pp(a, ' ', b, ' ', a+b)"
   ]
  },
  {
   "cell_type": "code",
   "execution_count": null,
   "metadata": {
    "colab": {
     "base_uri": "https://localhost:8080/",
     "height": 68
    },
    "colab_type": "code",
    "id": "8prE7damd6yH",
    "outputId": "8ac6dd6e-d89b-463b-c78b-e544b214021b"
   },
   "outputs": [],
   "source": [
    "a=A[0:1]\n",
    "b=B[0:1]\n",
    "c=B[0:1].T\n",
    "pp('shapes:', a.shape, b.shape, c.shape)\n",
    "pp('arrays:', a, ' ', c, ' ', a+c)"
   ]
  },
  {
   "cell_type": "code",
   "execution_count": null,
   "metadata": {
    "colab": {
     "base_uri": "https://localhost:8080/",
     "height": 85
    },
    "colab_type": "code",
    "id": "ApL6Ez-UeNPo",
    "outputId": "b9d4021d-d60b-48de-d2b6-67eb42de933b"
   },
   "outputs": [],
   "source": [
    "a = A[0]\n",
    "b = A[0].reshape(-1, 1)\n",
    "c = A[0][:,None] # or [:, numpy.newaxis]\n",
    "d = A[0][None, :] # or [numpy.newaxis, :]\n",
    "pp(a.shape, ' ', b.shape, ' ', c.shape, ' ', d.shape)\n",
    "print()\n",
    "pp(a, ' ', b, ' ', c, ' ', d)"
   ]
  },
  {
   "cell_type": "code",
   "execution_count": null,
   "metadata": {
    "colab": {},
    "colab_type": "code",
    "id": "D1EN6Oq5en9G"
   },
   "outputs": [],
   "source": []
  }
 ],
 "metadata": {
  "colab": {
   "collapsed_sections": [],
   "name": "Seminar 1 - python & numpy",
   "provenance": []
  },
  "kernelspec": {
   "display_name": "Python 3",
   "language": "python",
   "name": "python3"
  },
  "language_info": {
   "codemirror_mode": {
    "name": "ipython",
    "version": 3
   },
   "file_extension": ".py",
   "mimetype": "text/x-python",
   "name": "python",
   "nbconvert_exporter": "python",
   "pygments_lexer": "ipython3",
   "version": "3.7.4"
  }
 },
 "nbformat": 4,
 "nbformat_minor": 1
}
